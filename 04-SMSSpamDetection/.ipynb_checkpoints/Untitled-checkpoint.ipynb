{
 "cells": [
  {
   "cell_type": "code",
   "execution_count": 38,
   "id": "synthetic-medicaid",
   "metadata": {},
   "outputs": [],
   "source": [
    "from pyspark.sql import SparkSession\n",
    "from pyspark.sql.functions import length\n",
    "from pyspark.ml.feature import Tokenizer,StopWordsRemover, CountVectorizer,IDF,StringIndexer\n",
    "from pyspark.ml.feature import VectorAssembler\n",
    "from pyspark.ml.linalg import Vector\n",
    "from pyspark.ml.classification import NaiveBayes\n",
    "from pyspark.ml import Pipeline\n",
    "from pyspark.ml.evaluation import MulticlassClassificationEvaluator"
   ]
  },
  {
   "cell_type": "code",
   "execution_count": 2,
   "id": "emotional-creek",
   "metadata": {},
   "outputs": [],
   "source": [
    "spark = SparkSession.builder.appName('nuveo_nlp').getOrCreate()"
   ]
  },
  {
   "cell_type": "code",
   "execution_count": 10,
   "id": "ancient-hammer",
   "metadata": {},
   "outputs": [],
   "source": [
    "data_tr = spark.read.csv(\"TrainingSet/sms-hamspam-train.csv\",inferSchema=True,sep='\\t')\n",
    "data_tr = data_tr.withColumnRenamed('_c0','class').withColumnRenamed('_c1','text')"
   ]
  },
  {
   "cell_type": "code",
   "execution_count": 11,
   "id": "molecular-fellowship",
   "metadata": {},
   "outputs": [
    {
     "name": "stdout",
     "output_type": "stream",
     "text": [
      "+-----+--------------------+\n",
      "|class|                text|\n",
      "+-----+--------------------+\n",
      "|  ham|Go until jurong p...|\n",
      "| spam|SMSSERVICES. for ...|\n",
      "| spam|25p 4 alfie Moon'...|\n",
      "| spam|U have a secret a...|\n",
      "+-----+--------------------+\n",
      "only showing top 4 rows\n",
      "\n"
     ]
    }
   ],
   "source": [
    "data_tr.show(4)"
   ]
  },
  {
   "cell_type": "code",
   "execution_count": 17,
   "id": "excellent-arizona",
   "metadata": {},
   "outputs": [
    {
     "name": "stdout",
     "output_type": "stream",
     "text": [
      "+-----+-----------------+\n",
      "|class|      avg(length)|\n",
      "+-----+-----------------+\n",
      "|  ham|71.24658536585366|\n",
      "| spam|         138.6416|\n",
      "+-----+-----------------+\n",
      "\n",
      "+-----+--------------------+------+\n",
      "|class|                text|length|\n",
      "+-----+--------------------+------+\n",
      "|  ham|Go until jurong p...|   111|\n",
      "| spam|SMSSERVICES. for ...|   156|\n",
      "| spam|25p 4 alfie Moon'...|   161|\n",
      "| spam|U have a secret a...|   147|\n",
      "+-----+--------------------+------+\n",
      "only showing top 4 rows\n",
      "\n"
     ]
    }
   ],
   "source": [
    "data_tr = data_tr.withColumn('length',length(data_tr['text']))\n",
    "data_tr.show(4)"
   ]
  },
  {
   "cell_type": "code",
   "execution_count": 18,
   "id": "olive-causing",
   "metadata": {},
   "outputs": [
    {
     "name": "stdout",
     "output_type": "stream",
     "text": [
      "+-----+-----------------+\n",
      "|class|      avg(length)|\n",
      "+-----+-----------------+\n",
      "|  ham|71.24658536585366|\n",
      "| spam|         138.6416|\n",
      "+-----+-----------------+\n",
      "\n"
     ]
    }
   ],
   "source": [
    "# check avg lenght\n",
    "data_tr.groupby('class').mean().show()"
   ]
  },
  {
   "cell_type": "code",
   "execution_count": 22,
   "id": "clear-thread",
   "metadata": {},
   "outputs": [],
   "source": [
    "tokenizer = Tokenizer(inputCol=\"text\", outputCol=\"token_text\")\n",
    "stopremove = StopWordsRemover(inputCol='token_text',outputCol='stop_tokens')\n",
    "count_vec = CountVectorizer(inputCol='stop_tokens',outputCol='c_vec')\n",
    "idf = IDF(inputCol=\"c_vec\", outputCol=\"tf_idf\")\n",
    "ham_spam_to_num = StringIndexer(inputCol='class',outputCol='label')"
   ]
  },
  {
   "cell_type": "code",
   "execution_count": 24,
   "id": "capital-interaction",
   "metadata": {},
   "outputs": [],
   "source": [
    "clean_up = VectorAssembler(inputCols=['tf_idf','length'],outputCol='features')"
   ]
  },
  {
   "cell_type": "code",
   "execution_count": 26,
   "id": "preliminary-mother",
   "metadata": {},
   "outputs": [],
   "source": [
    "# Use defaults\n",
    "nb = NaiveBayes()"
   ]
  },
  {
   "cell_type": "code",
   "execution_count": 28,
   "id": "collect-brother",
   "metadata": {},
   "outputs": [],
   "source": [
    "data_prep_pipe = Pipeline(stages=[ham_spam_to_num,tokenizer,stopremove,count_vec,idf,clean_up])"
   ]
  },
  {
   "cell_type": "code",
   "execution_count": 30,
   "id": "handled-award",
   "metadata": {},
   "outputs": [],
   "source": [
    "cleaner = data_prep_pipe.fit(data_tr)"
   ]
  },
  {
   "cell_type": "code",
   "execution_count": 31,
   "id": "geographic-imperial",
   "metadata": {},
   "outputs": [],
   "source": [
    "clean_data = cleaner.transform(data_tr)"
   ]
  },
  {
   "cell_type": "code",
   "execution_count": 32,
   "id": "satellite-abuse",
   "metadata": {},
   "outputs": [],
   "source": [
    "clean_data = clean_data.select(['label','features'])"
   ]
  },
  {
   "cell_type": "code",
   "execution_count": 33,
   "id": "thick-parks",
   "metadata": {},
   "outputs": [
    {
     "name": "stdout",
     "output_type": "stream",
     "text": [
      "+-----+--------------------+\n",
      "|label|            features|\n",
      "+-----+--------------------+\n",
      "|  0.0|(12089,[7,10,29,6...|\n",
      "|  1.0|(12089,[20,49,203...|\n",
      "|  1.0|(12089,[2,4,9,27,...|\n",
      "|  1.0|(12089,[0,1,25,41...|\n",
      "+-----+--------------------+\n",
      "only showing top 4 rows\n",
      "\n"
     ]
    }
   ],
   "source": [
    "clean_data.show(4)"
   ]
  },
  {
   "cell_type": "code",
   "execution_count": 34,
   "id": "sacred-thesis",
   "metadata": {},
   "outputs": [],
   "source": [
    "(training,testing) = clean_data.randomSplit([0.7,0.3])"
   ]
  },
  {
   "cell_type": "code",
   "execution_count": 35,
   "id": "canadian-prerequisite",
   "metadata": {},
   "outputs": [],
   "source": [
    "spam_predictor = nb.fit(training)"
   ]
  },
  {
   "cell_type": "code",
   "execution_count": 36,
   "id": "declared-immigration",
   "metadata": {},
   "outputs": [],
   "source": [
    "test_results = spam_predictor.transform(testing)"
   ]
  },
  {
   "cell_type": "code",
   "execution_count": 37,
   "id": "difficult-fighter",
   "metadata": {},
   "outputs": [
    {
     "name": "stdout",
     "output_type": "stream",
     "text": [
      "+-----+--------------------+--------------------+--------------------+----------+\n",
      "|label|            features|       rawPrediction|         probability|prediction|\n",
      "+-----+--------------------+--------------------+--------------------+----------+\n",
      "|  0.0|(12089,[0,1,2,14,...|[-615.36208587777...|[0.99999999685670...|       0.0|\n",
      "|  0.0|(12089,[0,1,3,8,1...|[-562.10487080939...|[1.0,9.2669330051...|       0.0|\n",
      "|  0.0|(12089,[0,1,7,15,...|[-650.14757948880...|[1.0,1.3561378945...|       0.0|\n",
      "|  0.0|(12089,[0,1,8,12,...|[-543.84003938220...|[1.0,8.8246566033...|       0.0|\n",
      "|  0.0|(12089,[0,1,8,12,...|[-543.84003938220...|[1.0,8.8246566033...|       0.0|\n",
      "|  0.0|(12089,[0,1,11,34...|[-436.82793018813...|[1.0,3.2950826669...|       0.0|\n",
      "|  0.0|(12089,[0,1,12,29...|[-219.41617000765...|[1.0,3.9530198678...|       0.0|\n",
      "|  0.0|(12089,[0,1,24,29...|[-334.22512142821...|[1.0,5.2067137738...|       0.0|\n",
      "|  0.0|(12089,[0,1,32,12...|[-604.79534853730...|[1.0,4.2349843279...|       0.0|\n",
      "|  0.0|(12089,[0,1,1043,...|[-98.766465611287...|[0.99999977724396...|       0.0|\n",
      "|  0.0|(12089,[0,2,3,4,6...|[-1279.0050574486...|[1.0,1.0338070764...|       0.0|\n",
      "|  0.0|(12089,[0,2,3,5,3...|[-500.17030730656...|[0.99999999999999...|       0.0|\n",
      "|  0.0|(12089,[0,2,4,5,7...|[-981.83228253007...|[1.0,7.2963725615...|       0.0|\n",
      "|  0.0|(12089,[0,2,4,9,2...|[-1424.7022365222...|[1.0,3.9641393171...|       0.0|\n",
      "|  0.0|(12089,[0,2,4,10,...|[-1107.9699816214...|[1.0,2.4960433925...|       0.0|\n",
      "|  0.0|(12089,[0,2,4,27,...|[-431.02277965793...|[1.0,1.0920118097...|       0.0|\n",
      "|  0.0|(12089,[0,2,4,120...|[-630.93961290310...|[1.0,4.5233190139...|       0.0|\n",
      "|  0.0|(12089,[0,2,7,9,1...|[-677.43782756426...|[1.0,9.4406320310...|       0.0|\n",
      "|  0.0|(12089,[0,2,7,9,1...|[-442.96904985342...|[1.0,7.3812677487...|       0.0|\n",
      "|  0.0|(12089,[0,2,7,10,...|[-721.79589385499...|[1.0,9.0614189433...|       0.0|\n",
      "+-----+--------------------+--------------------+--------------------+----------+\n",
      "only showing top 20 rows\n",
      "\n"
     ]
    }
   ],
   "source": [
    "test_results.show()"
   ]
  },
  {
   "cell_type": "code",
   "execution_count": 39,
   "id": "million-chess",
   "metadata": {},
   "outputs": [
    {
     "name": "stdout",
     "output_type": "stream",
     "text": [
      "Accuracy of model at predicting spam was: 0.9139037298118139\n"
     ]
    }
   ],
   "source": [
    "acc_eval = MulticlassClassificationEvaluator()\n",
    "acc = acc_eval.evaluate(test_results)\n",
    "print(\"Accuracy of model at predicting spam was: {}\".format(acc))"
   ]
  },
  {
   "cell_type": "code",
   "execution_count": null,
   "id": "greater-mongolia",
   "metadata": {},
   "outputs": [],
   "source": []
  }
 ],
 "metadata": {
  "kernelspec": {
   "display_name": "Python 3",
   "language": "python",
   "name": "python3"
  },
  "language_info": {
   "codemirror_mode": {
    "name": "ipython",
    "version": 3
   },
   "file_extension": ".py",
   "mimetype": "text/x-python",
   "name": "python",
   "nbconvert_exporter": "python",
   "pygments_lexer": "ipython3",
   "version": "3.8.5"
  }
 },
 "nbformat": 4,
 "nbformat_minor": 5
}
