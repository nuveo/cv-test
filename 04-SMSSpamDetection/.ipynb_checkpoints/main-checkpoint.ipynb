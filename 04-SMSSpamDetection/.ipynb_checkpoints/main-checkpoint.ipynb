{
 "cells": [
  {
   "cell_type": "code",
   "execution_count": 2,
   "id": "synthetic-medicaid",
   "metadata": {},
   "outputs": [],
   "source": [
    "from pyspark.sql import SparkSession\n",
    "from pyspark.sql.functions import length\n",
    "from pyspark.ml.feature import Tokenizer,StopWordsRemover, CountVectorizer,IDF,StringIndexer\n",
    "from pyspark.ml.feature import VectorAssembler\n",
    "from pyspark.ml.linalg import Vector\n",
    "from pyspark.ml.classification import NaiveBayes\n",
    "from pyspark.ml import Pipeline\n",
    "from pyspark.ml.evaluation import MulticlassClassificationEvaluator\n",
    "from pyspark.sql import functions as F"
   ]
  },
  {
   "cell_type": "code",
   "execution_count": 3,
   "id": "emotional-creek",
   "metadata": {},
   "outputs": [],
   "source": [
    "# initialize SparkSession\n",
    "spark = SparkSession.builder.appName('nuveo_nlp').getOrCreate()"
   ]
  },
  {
   "cell_type": "code",
   "execution_count": 4,
   "id": "ancient-hammer",
   "metadata": {},
   "outputs": [],
   "source": [
    "# define function to load the given data\n",
    "def load_data(csv_data_path):\n",
    "    loaded_data = spark.read.csv(csv_data_path,inferSchema=True,sep='\\t')\n",
    "    loaded_data = loaded_data.withColumnRenamed('_c0','class').withColumnRenamed('_c1','text')\n",
    "    return loaded_data"
   ]
  },
  {
   "cell_type": "code",
   "execution_count": 5,
   "id": "molecular-fellowship",
   "metadata": {},
   "outputs": [
    {
     "name": "stdout",
     "output_type": "stream",
     "text": [
      "+-----+--------------------+\n",
      "|class|                text|\n",
      "+-----+--------------------+\n",
      "|  ham|Go until jurong p...|\n",
      "| spam|SMSSERVICES. for ...|\n",
      "| spam|25p 4 alfie Moon'...|\n",
      "| spam|U have a secret a...|\n",
      "+-----+--------------------+\n",
      "only showing top 4 rows\n",
      "\n"
     ]
    }
   ],
   "source": [
    "# load trainningset\n",
    "data_tr = load_data(\"TrainingSet/sms-hamspam-train.csv\")\n",
    "data_tr.show(4)"
   ]
  },
  {
   "cell_type": "code",
   "execution_count": null,
   "id": "excellent-arizona",
   "metadata": {},
   "outputs": [],
   "source": [
    "# display legth of each text\n",
    "data_tr = data_tr.withColumn('length',length(data_tr['text']))\n",
    "data_tr.show(4)"
   ]
  },
  {
   "cell_type": "code",
   "execution_count": 6,
   "id": "clear-thread",
   "metadata": {},
   "outputs": [],
   "source": [
    "# tockenize text\n",
    "tokenizer = Tokenizer(inputCol=\"text\", outputCol=\"token_text\")\n",
    "# remove common tockens\n",
    "stopremove = StopWordsRemover(inputCol='token_text',outputCol='stop_tokens')\n",
    "# count vectors\n",
    "count_vec = CountVectorizer(inputCol='stop_tokens',outputCol='c_vec')\n",
    "# perform inverse doc freq\n",
    "idf = IDF(inputCol=\"c_vec\", outputCol=\"tf_idf\")\n",
    "# adjust labels to spark\n",
    "ham_spam_to_num = StringIndexer(inputCol='class',outputCol='label')\n",
    "# combine features\n",
    "clean_up = VectorAssembler(inputCols=['tf_idf'],outputCol='features')"
   ]
  },
  {
   "cell_type": "code",
   "execution_count": 8,
   "id": "preliminary-mother",
   "metadata": {},
   "outputs": [
    {
     "name": "stdout",
     "output_type": "stream",
     "text": [
      "+-----+--------------------+\n",
      "|label|            features|\n",
      "+-----+--------------------+\n",
      "|  0.0|(12088,[7,10,29,6...|\n",
      "|  1.0|(12088,[20,49,203...|\n",
      "|  1.0|(12088,[2,4,9,27,...|\n",
      "|  1.0|(12088,[0,1,25,41...|\n",
      "+-----+--------------------+\n",
      "only showing top 4 rows\n",
      "\n"
     ]
    }
   ],
   "source": [
    "# import naivebayes and use defaults\n",
    "nb = NaiveBayes()\n",
    "data_prep_pipe = Pipeline(stages=[ham_spam_to_num,tokenizer,stopremove,count_vec,idf,clean_up])\n",
    "cleaner = data_prep_pipe.fit(data_tr)\n",
    "clean_data = cleaner.transform(data_tr)\n",
    "clean_data = clean_data.select(['label','features'])\n",
    "clean_data.show(4)"
   ]
  },
  {
   "cell_type": "code",
   "execution_count": 9,
   "id": "collect-brother",
   "metadata": {},
   "outputs": [
    {
     "name": "stdout",
     "output_type": "stream",
     "text": [
      "+-----+--------------------+--------------------+--------------------+----------+\n",
      "|label|            features|       rawPrediction|         probability|prediction|\n",
      "+-----+--------------------+--------------------+--------------------+----------+\n",
      "|  0.0|(12088,[0,1,2,7,9...|[-646.82868526919...|[1.0,1.9752667653...|       0.0|\n",
      "|  0.0|(12088,[0,1,3,8,1...|[-485.67289961260...|[0.99999999999921...|       0.0|\n",
      "|  0.0|(12088,[0,1,4,46,...|[-716.82603090970...|[1.0,2.4997650708...|       0.0|\n",
      "|  0.0|(12088,[0,1,5,15,...|[-809.99569223678...|[1.0,4.1931462547...|       0.0|\n",
      "+-----+--------------------+--------------------+--------------------+----------+\n",
      "only showing top 4 rows\n",
      "\n"
     ]
    }
   ],
   "source": [
    "# split data to train & test and foreward model to spark\n",
    "(training,testing) = clean_data.randomSplit([0.7,0.3])\n",
    "spam_predictor = nb.fit(training)\n",
    "test_results = spam_predictor.transform(testing)\n",
    "test_results.show(4)"
   ]
  },
  {
   "cell_type": "code",
   "execution_count": 10,
   "id": "handled-award",
   "metadata": {},
   "outputs": [
    {
     "name": "stdout",
     "output_type": "stream",
     "text": [
      "Accuracy of model at predicting spam was: 0.9067091114071515\n"
     ]
    }
   ],
   "source": [
    "# evaluate default performance\n",
    "acc_eval = MulticlassClassificationEvaluator()\n",
    "acc = acc_eval.evaluate(test_results)\n",
    "print(\"Accuracy of model at predicting spam was: {}\".format(acc))"
   ]
  }
 ],
 "metadata": {
  "kernelspec": {
   "display_name": "Python 3",
   "language": "python",
   "name": "python3"
  },
  "language_info": {
   "codemirror_mode": {
    "name": "ipython",
    "version": 3
   },
   "file_extension": ".py",
   "mimetype": "text/x-python",
   "name": "python",
   "nbconvert_exporter": "python",
   "pygments_lexer": "ipython3",
   "version": "3.8.5"
  }
 },
 "nbformat": 4,
 "nbformat_minor": 5
}
