{
 "cells": [
  {
   "cell_type": "code",
   "execution_count": null,
   "metadata": {},
   "outputs": [],
   "source": [
    "import cv2\n",
    "from code.binarization_methods import BinarizationMethod"
   ]
  },
  {
   "cell_type": "code",
   "execution_count": null,
   "metadata": {},
   "outputs": [],
   "source": [
    "img_path = \n",
    "img = cv2.imread(img_path, 0)\n",
    "print(\"Image shape:\", img.shape)\n",
    "\n",
    "        binary_method = BinarizationMethod(self.img_path)\n",
    "        print(\"Computing features ....\")\n",
    "        # binary methods\n",
    "        binary_method.otsu_global(); bin_otsu_g = binary_method.binary"
   ]
  }
 ],
 "metadata": {
  "kernelspec": {
   "display_name": "Python 3",
   "language": "python",
   "name": "python3"
  },
  "language_info": {
   "codemirror_mode": {
    "name": "ipython",
    "version": 3
   },
   "file_extension": ".py",
   "mimetype": "text/x-python",
   "name": "python",
   "nbconvert_exporter": "python",
   "pygments_lexer": "ipython3",
   "version": "3.6.9"
  }
 },
 "nbformat": 4,
 "nbformat_minor": 2
}
