{
 "cells": [
  {
   "cell_type": "markdown",
   "metadata": {},
   "source": [
    "# <center>Document Cleanup</center>"
   ]
  },
  {
   "cell_type": "markdown",
   "metadata": {},
   "source": [
    "# Victor Francisco\n",
    "email: victorfco27@gmail.com"
   ]
  },
  {
   "cell_type": "markdown",
   "metadata": {},
   "source": [
    "# Brief approach overview\n",
    "\n",
    "I decided to use a few of the most common techniques in image processing area. I also went further and tried to create a CNN to encode and decode the noisy image according to the filtered images. The ideia of using CNN is to increase text resolution since the combination of many filters can degradate image text quality.\n",
    "\n",
    "Remember of creating a folder to output the cleaned images."
   ]
  },
  {
   "cell_type": "markdown",
   "metadata": {},
   "source": [
    "## Importing all necessary libraries"
   ]
  },
  {
   "cell_type": "code",
   "execution_count": 1,
   "metadata": {},
   "outputs": [
    {
     "name": "stderr",
     "output_type": "stream",
     "text": [
      "Using TensorFlow backend.\n",
      "/home/victorfco/.virtualenvs/glucogear/lib/python3.6/site-packages/tensorflow/python/framework/dtypes.py:523: FutureWarning: Passing (type, 1) or '1type' as a synonym of type is deprecated; in a future version of numpy, it will be understood as (type, (1,)) / '(1,)type'.\n",
      "  _np_qint8 = np.dtype([(\"qint8\", np.int8, 1)])\n",
      "/home/victorfco/.virtualenvs/glucogear/lib/python3.6/site-packages/tensorflow/python/framework/dtypes.py:524: FutureWarning: Passing (type, 1) or '1type' as a synonym of type is deprecated; in a future version of numpy, it will be understood as (type, (1,)) / '(1,)type'.\n",
      "  _np_quint8 = np.dtype([(\"quint8\", np.uint8, 1)])\n",
      "/home/victorfco/.virtualenvs/glucogear/lib/python3.6/site-packages/tensorflow/python/framework/dtypes.py:525: FutureWarning: Passing (type, 1) or '1type' as a synonym of type is deprecated; in a future version of numpy, it will be understood as (type, (1,)) / '(1,)type'.\n",
      "  _np_qint16 = np.dtype([(\"qint16\", np.int16, 1)])\n",
      "/home/victorfco/.virtualenvs/glucogear/lib/python3.6/site-packages/tensorflow/python/framework/dtypes.py:526: FutureWarning: Passing (type, 1) or '1type' as a synonym of type is deprecated; in a future version of numpy, it will be understood as (type, (1,)) / '(1,)type'.\n",
      "  _np_quint16 = np.dtype([(\"quint16\", np.uint16, 1)])\n",
      "/home/victorfco/.virtualenvs/glucogear/lib/python3.6/site-packages/tensorflow/python/framework/dtypes.py:527: FutureWarning: Passing (type, 1) or '1type' as a synonym of type is deprecated; in a future version of numpy, it will be understood as (type, (1,)) / '(1,)type'.\n",
      "  _np_qint32 = np.dtype([(\"qint32\", np.int32, 1)])\n",
      "/home/victorfco/.virtualenvs/glucogear/lib/python3.6/site-packages/tensorflow/python/framework/dtypes.py:532: FutureWarning: Passing (type, 1) or '1type' as a synonym of type is deprecated; in a future version of numpy, it will be understood as (type, (1,)) / '(1,)type'.\n",
      "  np_resource = np.dtype([(\"resource\", np.ubyte, 1)])\n"
     ]
    }
   ],
   "source": [
    "import os\n",
    "import math\n",
    "import glob\n",
    "import scipy.misc\n",
    "import cv2 as cv\n",
    "import numpy as np\n",
    "import pandas as pd\n",
    "import matplotlib.pyplot as plt\n",
    "from PIL import Image\n",
    "from skimage.io import imread, imshow\n",
    "from skimage.filters import gaussian, threshold_otsu, median\n",
    "from skimage.feature import canny\n",
    "from skimage.morphology import disk, dilation, erosion\n",
    "from skimage.transform import probabilistic_hough_line, rotate\n",
    "from keras.models import Sequential\n",
    "from keras.layers import Dense, Flatten, Conv2D, MaxPooling2D, Dropout, Input, GlobalAveragePooling2D, UpSampling2D\n",
    "from keras.layers.normalization import BatchNormalization\n",
    "from keras.layers import concatenate\n",
    "from keras.models import Model\n",
    "%matplotlib inline"
   ]
  },
  {
   "cell_type": "markdown",
   "metadata": {},
   "source": [
    "## Image processing functions"
   ]
  },
  {
   "cell_type": "markdown",
   "metadata": {},
   "source": [
    "### Create a pad surrounding the image\n",
    "\n",
    "Parameters: array corresponding to the image, integer representing size in pixels for the final height and width, and a boolean to choose the padding color (white or black).\n",
    "\n",
    "Returns: array corresponding to the padded image.\n",
    "\n",
    "This function creates a border in the image in order to make it squared (same height and width)."
   ]
  },
  {
   "cell_type": "code",
   "execution_count": 2,
   "metadata": {},
   "outputs": [],
   "source": [
    "def padding_img(img, final_size, padding_black = False):\n",
    "    h_pad = final_size - img.shape[0]\n",
    "    w_pad = final_size - img.shape[1]\n",
    "    \n",
    "    \n",
    "    # Calculating pad size to apply on image based on desired size and image real size\n",
    "    top = h_pad/2\n",
    "    if top.is_integer():\n",
    "        bottom = top\n",
    "    else:\n",
    "        top = math.ceil(top)\n",
    "        bottom = math.floor(top)-1\n",
    "        \n",
    "    left = w_pad/2\n",
    "    if left.is_integer():\n",
    "        right = left\n",
    "    else:\n",
    "        left = math.ceil(left)\n",
    "        right = math.floor(left)-1\n",
    "\n",
    "    color = [255, 255, 255]    \n",
    "    if padding_black:\n",
    "        color = [0, 0, 0]\n",
    "\n",
    "    new_img = cv.copyMakeBorder(img, int(top), int(bottom), int(left), int(right), cv.BORDER_CONSTANT, value = color)\n",
    "    \n",
    "    return new_img"
   ]
  },
  {
   "cell_type": "markdown",
   "metadata": {},
   "source": [
    "### Function to fix text rotation\n",
    "\n",
    "Parameters: array representing the image.\n",
    "\n",
    "Returns: array of fixed image.\n",
    "\n",
    "This function makes use of threshold to remove some noises on the image, gaussian filter blurring the text so canny algorithm identify edges. Then, Hough transform to identify lines within image and then histogram to identify most common angles so we can calculate the necessary rotation angle."
   ]
  },
  {
   "cell_type": "code",
   "execution_count": 3,
   "metadata": {},
   "outputs": [],
   "source": [
    "def fix_rotation(img):\n",
    "\n",
    "    #threshold to get rid of extraneous noise\n",
    "    thresh = threshold_otsu(img)\n",
    "    normalize = img > thresh\n",
    "\n",
    "    # gaussian blur\n",
    "    blur = gaussian(normalize, 3)\n",
    "\n",
    "    # canny edges in scikit-image\n",
    "    edges = canny(blur)\n",
    "\n",
    "    # hough lines\n",
    "    hough_lines = probabilistic_hough_line(edges)\n",
    "\n",
    "    # hough lines returns a list of points, in the form ((x1, y1), (x2, y2))\n",
    "    # representing line segments. the first step is to calculate the slopes of\n",
    "    # these lines from their paired point values\n",
    "    slopes = [(y2 - y1)/(x2 - x1) if (x2-x1) else 0 for (x1,y1), (x2, y2) in hough_lines]\n",
    "\n",
    "    # it just so happens that this slope is also y where y = tan(theta), the angle\n",
    "    # in a circle by which the line is offset\n",
    "    rad_angles = [np.arctan(x) for x in slopes]\n",
    "\n",
    "    # and we change to degrees for the rotation\n",
    "    deg_angles = [np.degrees(x) for x in rad_angles]\n",
    "\n",
    "    # which of these degree values is most common?\n",
    "    histo = np.histogram(deg_angles, bins=180)\n",
    "    \n",
    "    # correcting for 'sideways' alignments\n",
    "    rotation_angle = histo[1][np.argmax(histo[0])]\n",
    "\n",
    "    if rotation_angle > 45:\n",
    "        rotation_angle = -(90-rotation_angle)\n",
    "    elif rotation_angle < -45:\n",
    "        rotation_angle = 90 - abs(rotation_angle)\n",
    "        \n",
    "    center = (img.shape[0] // 2, img.shape[1] // 2)\n",
    "    rotation_matrix = cv.getRotationMatrix2D(center, round(rotation_angle, 2), 1.0)\n",
    "    rotated_img = cv.warpAffine(img, rotation_matrix, (img.shape[0], img.shape[1]),\n",
    "                                flags=cv.INTER_CUBIC, borderMode=cv.BORDER_CONSTANT,\n",
    "                               borderValue=255)\n",
    "\n",
    "    return rotated_img"
   ]
  },
  {
   "cell_type": "markdown",
   "metadata": {},
   "source": [
    "### Removes the background for cleaner image\n",
    "\n",
    "Parameters: image as an array\n",
    "\n",
    "Returns: image array with subtracted background\n",
    "\n",
    "Applying a median filter we can make the text blend with the background, then we subtract the background from the actual image."
   ]
  },
  {
   "cell_type": "code",
   "execution_count": 4,
   "metadata": {},
   "outputs": [],
   "source": [
    "def background_removal(img):\n",
    "    \n",
    "    # uses a median filter to remove text from image, resulting in only background (noise)\n",
    "    filtered_img = median(img, disk(9))\n",
    "    \n",
    "    # subtracting background from original image\n",
    "    subtracted_img = cv.subtract(filtered_img, img)\n",
    "\n",
    "    # cv.subtract results in a negative image, so we need to return it to white background and black text\n",
    "    subtracted_img = ~subtracted_img\n",
    "    \n",
    "    return subtracted_img"
   ]
  },
  {
   "cell_type": "markdown",
   "metadata": {},
   "source": [
    "### Adjusts the image contrast\n",
    "\n",
    "Parameters: image as array and an integer representing the level of contrast.\n",
    "\n",
    "Returns: array reprensenting the image with contrast correction."
   ]
  },
  {
   "cell_type": "code",
   "execution_count": 5,
   "metadata": {},
   "outputs": [],
   "source": [
    "def contrast_adjustment(img, level):\n",
    "    img = Image.fromarray(img)\n",
    "    factor = (259 * (level + 255)) / (255 * (259 - level))\n",
    "    def contrast(c):\n",
    "        return 128 + factor * (c - 128)\n",
    "    return np.array(img.point(contrast))"
   ]
  },
  {
   "cell_type": "markdown",
   "metadata": {},
   "source": [
    "## Image manipulation\n",
    "\n",
    "Open the noisy image from folder and apply the image processing functions to it. Then creates a list of noisy and cleaned images to use in the Convolution Neural Network. In this case, we also apply padding and fix rotation to noisy images to use as input to the CNN.\n",
    "\n",
    "Note: It is recommended to set img_height and img_width to values greater or equal to the max height or width among all input images.\n",
    "\n",
    "\n",
    "DO NOT FORGET OF CREATING A FOLDER FOR CLEAN IMAGES."
   ]
  },
  {
   "cell_type": "code",
   "execution_count": 6,
   "metadata": {},
   "outputs": [],
   "source": [
    "noisy_path = '/media/victorfco/Storage/Projects/Data/candidate-data/01-DocumentCleanup/noisy_data'\n",
    "clean_path = '/media/victorfco/Storage/Projects/Data/candidate-data/01-DocumentCleanup/clean_data'\n",
    "\n",
    "noisy_imgs = glob.glob(noisy_path + \"/*\" )\n",
    "clean_list = []\n",
    "noisy_list = []\n",
    "\n",
    "# Define the size for your image after padding. HEIGHT and WIDTH MUST BE THE SAME\n",
    "# Chose values greater or equal to the max height or width among all input images\n",
    "img_height = 640\n",
    "img_width = 640\n",
    "\n",
    "\n",
    "for image in noisy_imgs:\n",
    "    img_file = image.split('/')[-1]\n",
    "    noisy = imread(image, as_gray = True)\n",
    "    clean = padding_img(noisy, img_height, padding_black = False)\n",
    "    clean = fix_rotation(clean)\n",
    "    clean = background_removal(clean)\n",
    "    \n",
    "    noisy = padding_img(noisy, img_height, padding_black = False)\n",
    "    noisy = fix_rotation(noisy)\n",
    "    \n",
    "    # Append clean and noisy images with propoer shape with 1 color channel for CNN\n",
    "    clean_list.append(np.stack((clean,)*1, axis = -1))\n",
    "    noisy_list.append(np.stack((noisy,)*1, axis = -1))"
   ]
  },
  {
   "cell_type": "code",
   "execution_count": 7,
   "metadata": {},
   "outputs": [],
   "source": [
    "clean_list = np.asarray(clean_list)\n",
    "noisy_list = np.asarray(noisy_list)"
   ]
  },
  {
   "cell_type": "code",
   "execution_count": 8,
   "metadata": {},
   "outputs": [],
   "source": [
    "clean_list = clean_list/255\n",
    "noisy_list = noisy_list/255"
   ]
  },
  {
   "cell_type": "code",
   "execution_count": 9,
   "metadata": {},
   "outputs": [
    {
     "data": {
      "text/plain": [
       "(144, 640, 640, 1)"
      ]
     },
     "execution_count": 9,
     "metadata": {},
     "output_type": "execute_result"
    }
   ],
   "source": [
    "clean_list.shape"
   ]
  },
  {
   "cell_type": "markdown",
   "metadata": {},
   "source": [
    "## Using CNN to improve text in the final image\n",
    "\n",
    "The usage of CNN in this case is to try to improve text resolution. The ideia is to use a simple CNN to encode and decode an image. This way we expect to be able to easily read the text."
   ]
  },
  {
   "cell_type": "code",
   "execution_count": 10,
   "metadata": {},
   "outputs": [],
   "source": [
    "def create_cnn(input_shape):   \n",
    "    input_layer = Input(shape=input_shape)\n",
    "    \n",
    "    cnn = Conv2D(64, (3,3), activation = 'relu', strides=1, padding='same')(input_layer) \n",
    "    cnn = MaxPooling2D((2, 2), padding='same')(cnn)\n",
    "    \n",
    "    cnn = Conv2D(64, (3, 3), activation = 'relu', strides=1, padding='same')(cnn)\n",
    "    cnn = UpSampling2D((2,2))(cnn)\n",
    "    output_layer = Conv2D(1, (3, 3), activation='sigmoid', padding='same')(cnn)\n",
    "        \n",
    "    cnn = Model(inputs=input_layer, outputs=output_layer)\n",
    "    \n",
    "    return cnn"
   ]
  },
  {
   "cell_type": "markdown",
   "metadata": {},
   "source": [
    "Due to computational limitations, the batch size is set as 4. Feel free to adjust this parameter according to your PC computational capacity."
   ]
  },
  {
   "cell_type": "code",
   "execution_count": 11,
   "metadata": {
    "scrolled": true
   },
   "outputs": [
    {
     "name": "stdout",
     "output_type": "stream",
     "text": [
      "Epoch 1/80\n",
      " - 22s - loss: 0.0420\n",
      "Epoch 2/80\n",
      " - 17s - loss: 0.0152\n",
      "Epoch 3/80\n",
      " - 16s - loss: 0.0094\n",
      "Epoch 4/80\n",
      " - 17s - loss: 0.0079\n",
      "Epoch 5/80\n",
      " - 16s - loss: 0.0071\n",
      "Epoch 6/80\n",
      " - 16s - loss: 0.0067\n",
      "Epoch 7/80\n",
      " - 16s - loss: 0.0064\n",
      "Epoch 8/80\n",
      " - 16s - loss: 0.0062\n",
      "Epoch 9/80\n",
      " - 16s - loss: 0.0060\n",
      "Epoch 10/80\n",
      " - 17s - loss: 0.0060\n",
      "Epoch 11/80\n",
      " - 16s - loss: 0.0058\n",
      "Epoch 12/80\n",
      " - 16s - loss: 0.0057\n",
      "Epoch 13/80\n",
      " - 17s - loss: 0.0057\n",
      "Epoch 14/80\n",
      " - 17s - loss: 0.0057\n",
      "Epoch 15/80\n",
      " - 17s - loss: 0.0056\n",
      "Epoch 16/80\n",
      " - 16s - loss: 0.0058\n",
      "Epoch 17/80\n",
      " - 17s - loss: 0.0057\n",
      "Epoch 18/80\n",
      " - 17s - loss: 0.0055\n",
      "Epoch 19/80\n",
      " - 16s - loss: 0.0056\n",
      "Epoch 20/80\n",
      " - 16s - loss: 0.0057\n",
      "Epoch 21/80\n",
      " - 17s - loss: 0.0055\n",
      "Epoch 22/80\n",
      " - 17s - loss: 0.0056\n",
      "Epoch 23/80\n",
      " - 16s - loss: 0.0056\n",
      "Epoch 24/80\n",
      " - 16s - loss: 0.0055\n",
      "Epoch 25/80\n",
      " - 16s - loss: 0.0056\n",
      "Epoch 26/80\n",
      " - 17s - loss: 0.0055\n",
      "Epoch 27/80\n",
      " - 16s - loss: 0.0055\n",
      "Epoch 28/80\n",
      " - 16s - loss: 0.0054\n",
      "Epoch 29/80\n",
      " - 16s - loss: 0.0055\n",
      "Epoch 30/80\n",
      " - 16s - loss: 0.0055\n",
      "Epoch 31/80\n",
      " - 17s - loss: 0.0054\n",
      "Epoch 32/80\n",
      " - 16s - loss: 0.0054\n",
      "Epoch 33/80\n",
      " - 16s - loss: 0.0055\n",
      "Epoch 34/80\n",
      " - 16s - loss: 0.0054\n",
      "Epoch 35/80\n",
      " - 16s - loss: 0.0054\n",
      "Epoch 36/80\n",
      " - 16s - loss: 0.0054\n",
      "Epoch 37/80\n",
      " - 16s - loss: 0.0054\n",
      "Epoch 38/80\n",
      " - 16s - loss: 0.0055\n",
      "Epoch 39/80\n",
      " - 17s - loss: 0.0055\n",
      "Epoch 40/80\n",
      " - 17s - loss: 0.0054\n",
      "Epoch 41/80\n",
      " - 16s - loss: 0.0054\n",
      "Epoch 42/80\n",
      " - 16s - loss: 0.0054\n",
      "Epoch 43/80\n",
      " - 16s - loss: 0.0054\n",
      "Epoch 44/80\n",
      " - 16s - loss: 0.0055\n",
      "Epoch 45/80\n",
      " - 17s - loss: 0.0054\n",
      "Epoch 46/80\n",
      " - 17s - loss: 0.0053\n",
      "Epoch 47/80\n",
      " - 16s - loss: 0.0053\n",
      "Epoch 48/80\n",
      " - 17s - loss: 0.0055\n",
      "Epoch 49/80\n",
      " - 17s - loss: 0.0053\n",
      "Epoch 50/80\n",
      " - 16s - loss: 0.0053\n",
      "Epoch 51/80\n",
      " - 17s - loss: 0.0053\n",
      "Epoch 52/80\n",
      " - 17s - loss: 0.0054\n",
      "Epoch 53/80\n",
      " - 17s - loss: 0.0055\n",
      "Epoch 54/80\n",
      " - 16s - loss: 0.0054\n",
      "Epoch 55/80\n",
      " - 16s - loss: 0.0055\n",
      "Epoch 56/80\n",
      " - 17s - loss: 0.0053\n",
      "Epoch 57/80\n",
      " - 17s - loss: 0.0054\n",
      "Epoch 58/80\n",
      " - 16s - loss: 0.0053\n",
      "Epoch 59/80\n",
      " - 17s - loss: 0.0053\n",
      "Epoch 60/80\n",
      " - 16s - loss: 0.0054\n",
      "Epoch 61/80\n",
      " - 16s - loss: 0.0053\n",
      "Epoch 62/80\n",
      " - 16s - loss: 0.0053\n",
      "Epoch 63/80\n",
      " - 16s - loss: 0.0053\n",
      "Epoch 64/80\n",
      " - 16s - loss: 0.0053\n",
      "Epoch 65/80\n",
      " - 17s - loss: 0.0053\n",
      "Epoch 66/80\n",
      " - 17s - loss: 0.0053\n",
      "Epoch 67/80\n",
      " - 17s - loss: 0.0053\n",
      "Epoch 68/80\n",
      " - 17s - loss: 0.0053\n",
      "Epoch 69/80\n",
      " - 16s - loss: 0.0053\n",
      "Epoch 70/80\n",
      " - 16s - loss: 0.0053\n",
      "Epoch 71/80\n",
      " - 16s - loss: 0.0054\n",
      "Epoch 72/80\n",
      " - 16s - loss: 0.0054\n",
      "Epoch 73/80\n",
      " - 16s - loss: 0.0054\n",
      "Epoch 74/80\n",
      " - 16s - loss: 0.0053\n",
      "Epoch 75/80\n",
      " - 16s - loss: 0.0053\n",
      "Epoch 76/80\n",
      " - 16s - loss: 0.0053\n",
      "Epoch 77/80\n",
      " - 16s - loss: 0.0053\n",
      "Epoch 78/80\n",
      " - 16s - loss: 0.0052\n",
      "Epoch 79/80\n",
      " - 16s - loss: 0.0052\n",
      "Epoch 80/80\n",
      " - 16s - loss: 0.0052\n"
     ]
    }
   ],
   "source": [
    "input_shape = (img_height, img_width, 1)\n",
    "\n",
    "X_train = noisy_list\n",
    "y_train = clean_list\n",
    "\n",
    "classifier = create_cnn(input_shape)   \n",
    "    \n",
    "classifier.compile(loss = 'mse', optimizer = 'adam')\n",
    "\n",
    "cnn = classifier.fit(X_train, y_train, epochs = 80, batch_size = 4, shuffle = True, verbose = 2)  "
   ]
  },
  {
   "cell_type": "code",
   "execution_count": 12,
   "metadata": {},
   "outputs": [
    {
     "data": {
      "image/png": "[encoded data removed]",
      "text/plain": [
       "<Figure size 432x288 with 1 Axes>"
      ]
     },
     "metadata": {
      "needs_background": "light"
     },
     "output_type": "display_data"
    }
   ],
   "source": [
    "plt.plot(cnn.history['loss'])\n",
    "plt.title('Model loss')\n",
    "plt.ylabel('Loss')\n",
    "plt.xlabel('Epoch')\n",
    "plt.legend(['Train', 'Test'], loc='upper left')\n",
    "plt.show()"
   ]
  },
  {
   "cell_type": "markdown",
   "metadata": {},
   "source": [
    "### Saving CNN predicted decoded images"
   ]
  },
  {
   "cell_type": "code",
   "execution_count": 14,
   "metadata": {},
   "outputs": [],
   "source": [
    "# for i in range(0, 2):\n",
    "for i in range(0, X_train.shape[0]):\n",
    "    img_file = noisy_imgs[i].split('/')[-1]\n",
    "    \n",
    "    # Commented lines are for debugging purposes\n",
    "#     fig = plt.figure()\n",
    "#     fig.set_size_inches(25, 10)\n",
    "\n",
    "#     plt.subplot(1, 3, 1)\n",
    "#     image = X_train[i] * 255.0\n",
    "#     image = image.reshape(img_width, img_height)\n",
    "#     plt.imshow(image, cmap='gray')\n",
    "\n",
    "#     plt.subplot(1, 3, 2)\n",
    "#     image = y_train[i] * 255.0\n",
    "#     image = image.reshape(img_width, img_height)\n",
    "#     plt.imshow(image, cmap='gray')\n",
    "\n",
    "\n",
    "#     plt.subplot(1, 3, 3)\n",
    "    predict = classifier.predict(X_train[i].reshape(1, img_width, img_height, 1))\n",
    "    predict = predict * 255\n",
    "    predict = predict.reshape(img_width, img_height)\n",
    "#     plt.imshow(predict, cmap='gray')\n",
    "\n",
    "    # Applying threshold to predicted image and save it as binary (0's and 255's)\n",
    "    rotaded = fix_rotation(predict)\n",
    "    thres = threshold_otsu(rotaded)\n",
    "    normalize = rotaded > thres\n",
    "    normalize = normalize.astype(int)\n",
    "    normalize = normalize * 255\n",
    "    \n",
    "    cv.imwrite('{}/{}'.format(clean_path, img_file), normalize)\n"
   ]
  },
  {
   "cell_type": "code",
   "execution_count": null,
   "metadata": {},
   "outputs": [],
   "source": []
  }
 ],
 "metadata": {
  "kernelspec": {
   "display_name": "Python 3",
   "language": "python",
   "name": "python3"
  },
  "language_info": {
   "codemirror_mode": {
    "name": "ipython",
    "version": 3
   },
   "file_extension": ".py",
   "mimetype": "text/x-python",
   "name": "python",
   "nbconvert_exporter": "python",
   "pygments_lexer": "ipython3",
   "version": "3.6.8"
  }
 },
 "nbformat": 4,
 "nbformat_minor": 2
}
